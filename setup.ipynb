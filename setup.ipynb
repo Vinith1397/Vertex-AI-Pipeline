{
  "metadata": {
    "kernelspec": {
      "name": "python",
      "display_name": "Python (Pyodide)",
      "language": "python"
    },
    "language_info": {
      "codemirror_mode": {
        "name": "python",
        "version": 3
      },
      "file_extension": ".py",
      "mimetype": "text/x-python",
      "name": "python",
      "nbconvert_exporter": "python",
      "pygments_lexer": "ipython3",
      "version": "3.8"
    }
  },
  "nbformat_minor": 4,
  "nbformat": 4,
  "cells": [
    {
      "cell_type": "code",
      "source": "USER_FLAG = \"--user\"",
      "metadata": {
        "trusted": true
      },
      "outputs": [],
      "execution_count": 1
    },
    {
      "cell_type": "code",
      "source": "!pip3 install {USER_FLAG} google-cloud-aiplatform==1.0.0 --upgrade\n!pip3 install {USER_FLAG} kfp google-cloud-pipeline-components==0.1.1 --upgrade\n!pip install -U google-cloud-aiplatform \"shapely<2\"",
      "metadata": {
        "trusted": true
      },
      "outputs": [],
      "execution_count": null
    },
    {
      "cell_type": "code",
      "source": "import os\n\nif not os.getenv(\"IS_TESTING\"):\n    # Automatically restart kernel after installs\n    import IPython\n\n    app = IPython.Application.instance()\n    app.kernel.do_shutdown(True)",
      "metadata": {
        "trusted": true
      },
      "outputs": [],
      "execution_count": null
    },
    {
      "cell_type": "code",
      "source": "!python3 -c \"import kfp; print('KFP SDK version: {}'.format(kfp.__version__))\"\n!python3 -c \"import google_cloud_pipeline_components; print('google_cloud_pipeline_components version: {}'.format(google_cloud_pipeline_components.__version__))\"",
      "metadata": {
        "trusted": true
      },
      "outputs": [],
      "execution_count": null
    },
    {
      "cell_type": "code",
      "source": "import os\nPROJECT_ID = \"\"\n\n# Get your Google Cloud project ID from gcloud\nif not os.getenv(\"IS_TESTING\"):\n    shell_output=!gcloud config list --format 'value(core.project)' 2>/dev/null\n    PROJECT_ID = shell_output[0]\n    print(\"Project ID: \", PROJECT_ID)",
      "metadata": {
        "trusted": true
      },
      "outputs": [],
      "execution_count": null
    },
    {
      "cell_type": "code",
      "source": "BUCKET_NAME=\"gs://\" + PROJECT_ID + \"-bucket\"",
      "metadata": {
        "trusted": true
      },
      "outputs": [],
      "execution_count": null
    },
    {
      "cell_type": "code",
      "source": "from typing import NamedTuple\n\nimport kfp\nfrom kfp import dsl\nfrom kfp.v2 import compiler\nfrom kfp.v2.dsl import (Artifact, Dataset, Input, InputPath, Model, Output,\n                        OutputPath, ClassificationMetrics, Metrics, component)\nfrom kfp.v2.google.client import AIPlatformClient\n\nfrom google.cloud import aiplatform\nfrom google_cloud_pipeline_components import aiplatform as gcc_aip",
      "metadata": {
        "trusted": true
      },
      "outputs": [],
      "execution_count": null
    },
    {
      "cell_type": "code",
      "source": "PATH=%env PATH\n%env PATH={PATH}:/home/jupyter/.local/bin\nREGION=\"us-central1\"\n\n\nPIPELINE_ROOT = f\"{BUCKET_NAME}/pipeline_root/\"\nPIPELINE_ROOT",
      "metadata": {
        "trusted": true
      },
      "outputs": [],
      "execution_count": null
    },
    {
      "cell_type": "code",
      "source": "",
      "metadata": {
        "trusted": true
      },
      "outputs": [],
      "execution_count": null
    }
  ]
}