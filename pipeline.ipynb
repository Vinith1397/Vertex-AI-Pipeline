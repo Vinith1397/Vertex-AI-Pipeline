{
  "metadata": {
    "kernelspec": {
      "name": "python",
      "display_name": "Python (Pyodide)",
      "language": "python"
    },
    "language_info": {
      "codemirror_mode": {
        "name": "python",
        "version": 3
      },
      "file_extension": ".py",
      "mimetype": "text/x-python",
      "name": "python",
      "nbconvert_exporter": "python",
      "pygments_lexer": "ipython3",
      "version": "3.8"
    }
  },
  "nbformat_minor": 4,
  "nbformat": 4,
  "cells": [
    {
      "cell_type": "code",
      "source": "@component(base_image=\"python:3.9\", output_component_file=\"first-component.yaml\")\ndef product_name(text: str) -> str:\n    return text",
      "metadata": {
        "trusted": true
      },
      "outputs": [],
      "execution_count": null
    },
    {
      "cell_type": "code",
      "source": "product_name_component = kfp.components.load_component_from_file('./first-component.yaml')",
      "metadata": {
        "trusted": true
      },
      "outputs": [],
      "execution_count": null
    },
    {
      "cell_type": "code",
      "source": "@component(base_image=\"python:3.9\", output_component_file=\"second-component.yaml\", packages_to_install=[\"emoji\"])\ndef emoji(\n    text: str,\n) -> NamedTuple(\n    \"Outputs\",\n    [\n        (\"emoji_text\", str),  # Return parameters\n        (\"emoji\", str),\n    ],\n):\n    import emoji\n\n    emoji_text = text\n    emoji_str = emoji.emojize(':' + emoji_text + ':', language='alias')\n    print(\"output one: {}; output_two: {}\".format(emoji_text, emoji_str))\n    return (emoji_text, emoji_str)",
      "metadata": {
        "trusted": true
      },
      "outputs": [],
      "execution_count": null
    },
    {
      "cell_type": "code",
      "source": "@component(base_image=\"python:3.9\", output_component_file=\"third-component.yaml\")\ndef build_sentence(\n    product: str,\n    emoji: str,\n    emojitext: str\n) -> str:\n    print(\"We completed the pipeline, hooray!\")\n    end_str = product + \" is \"\n    if len(emoji) > 0:\n        end_str += emoji\n    else:\n        end_str += emojitext\n    return(end_str)",
      "metadata": {
        "trusted": true
      },
      "outputs": [],
      "execution_count": null
    },
    {
      "cell_type": "code",
      "source": "@dsl.pipeline(\n    name=\"hello-world\",\n    description=\"An intro pipeline\",\n    pipeline_root=PIPELINE_ROOT,\n)\n\n# You can change the `text` and `emoji_str` parameters here to update the pipeline output\ndef intro_pipeline(text: str = \"Vertex Pipelines\", emoji_str: str = \"sparkles\"):\n    product_task = product_name(text)\n    emoji_task = emoji(emoji_str)\n    consumer_task = build_sentence(\n        product_task.output,\n        emoji_task.outputs[\"emoji\"],\n        emoji_task.outputs[\"emoji_text\"],\n    )",
      "metadata": {
        "trusted": true
      },
      "outputs": [],
      "execution_count": null
    },
    {
      "cell_type": "code",
      "source": "compiler.Compiler().compile(\n    pipeline_func=intro_pipeline, package_path=\"intro_pipeline_job.json\"\n)",
      "metadata": {
        "trusted": true
      },
      "outputs": [],
      "execution_count": null
    },
    {
      "cell_type": "code",
      "source": "api_client = AIPlatformClient(\n    project_id=PROJECT_ID,\n    region=REGION,\n)",
      "metadata": {
        "trusted": true
      },
      "outputs": [],
      "execution_count": null
    },
    {
      "cell_type": "code",
      "source": "response = api_client.create_run_from_job_spec(\n    job_spec_path=\"intro_pipeline_job.json\",\n    # pipeline_root=PIPELINE_ROOT  # this argument is necessary if you did not specify PIPELINE_ROOT as part of the pipeline definition.\n)",
      "metadata": {
        "trusted": true
      },
      "outputs": [],
      "execution_count": null
    }
  ]
}